{
  "nbformat": 4,
  "nbformat_minor": 0,
  "metadata": {
    "colab": {
      "provenance": []
    },
    "kernelspec": {
      "name": "python3",
      "display_name": "Python 3"
    },
    "language_info": {
      "name": "python"
    }
  },
  "cells": [
    {
      "cell_type": "code",
      "execution_count": 9,
      "metadata": {
        "colab": {
          "base_uri": "https://localhost:8080/"
        },
        "id": "1cCVngQgGPZm",
        "outputId": "81f2a68f-8122-46bd-b083-bdc9d33250fc"
      },
      "outputs": [
        {
          "output_type": "stream",
          "name": "stdout",
          "text": [
            "\u001b[31mERROR: Could not find a version that satisfies the requirement grahviz (from versions: none)\u001b[0m\u001b[31m\n",
            "\u001b[0m\u001b[31mERROR: No matching distribution found for grahviz\u001b[0m\u001b[31m\n",
            "\u001b[0m"
          ]
        }
      ],
      "source": [
        "!pip install grahviz\n",
        "import pandas as pd\n",
        "import numpy as np\n",
        "import graphviz"
      ]
    },
    {
      "cell_type": "code",
      "source": [
        "data = {\n",
        "    'CGPA': ['>=9', '>=8', '>=9', '<8', '>=8', '>=9', '<8', '>=9', '>=8', '>=8'],\n",
        "    'Interactiveness': ['Yes', 'No', 'No', 'No', 'Yes', 'Yes', 'Yes', 'No', 'Yes', 'Yes'],\n",
        "    'Practical Knowledge': ['Very good', 'Good', 'Average', 'Average', 'Good', 'Good', 'Good', 'Very good', 'Good', 'Average'],\n",
        "    'Communication Skills': ['Good', 'Moderate', 'Poor', 'Good', 'Moderate', 'Moderate', 'Poor', 'Good', 'Good', 'Good'],\n",
        "    'Job Offer': ['Yes', 'Yes', 'No', 'No', 'Yes', 'Yes', 'No', 'Yes', 'Yes', 'Yes']\n",
        "}\n",
        "df = pd.DataFrame(data)"
      ],
      "metadata": {
        "id": "dOPaDqZWGVJN"
      },
      "execution_count": 2,
      "outputs": []
    },
    {
      "cell_type": "code",
      "source": [
        "# Entropy & Info Gain Functions\n",
        "def entropy(target_col):\n",
        "    elements, counts = np.unique(target_col, return_counts=True)\n",
        "    return -np.sum([(counts[i]/np.sum(counts)) * np.log2(counts[i]/np.sum(counts))\n",
        "                    for i in range(len(elements))])\n",
        "\n",
        "def info_gain(data, split_attr, target_attr='Job Offer'):\n",
        "    total_entropy = entropy(data[target_attr])\n",
        "    vals, counts = np.unique(data[split_attr], return_counts=True)\n",
        "    weighted_entropy = np.sum([\n",
        "        (counts[i]/np.sum(counts)) * entropy(data.where(data[split_attr] == vals[i]).dropna()[target_attr])\n",
        "        for i in range(len(vals))\n",
        "    ])\n",
        "    return total_entropy - weighted_entropy"
      ],
      "metadata": {
        "id": "EyKT5taiGf0u"
      },
      "execution_count": 3,
      "outputs": []
    },
    {
      "cell_type": "code",
      "source": [
        "# ID3 Algorithm\n",
        "def ID3(data, original_data, features, target_attr=\"Job Offer\", parent_node_class=None):\n",
        "    if len(np.unique(data[target_attr])) <= 1:\n",
        "        return np.unique(data[target_attr])[0]\n",
        "    elif len(data) == 0:\n",
        "        return np.unique(original_data[target_attr])[\n",
        "            np.argmax(np.unique(original_data[target_attr], return_counts=True)[1])]\n",
        "    elif len(features) == 0:\n",
        "        return parent_node_class\n",
        "    else:\n",
        "        parent_node_class = np.unique(data[target_attr])[\n",
        "            np.argmax(np.unique(data[target_attr], return_counts=True)[1])]\n",
        "        gains = [info_gain(data, f, target_attr) for f in features]\n",
        "        best_feat = features[np.argmax(gains)]\n",
        "        tree = {best_feat: {}}\n",
        "        features = [f for f in features if f != best_feat]\n",
        "        for val in np.unique(data[best_feat]):\n",
        "            sub_data = data[data[best_feat] == val]\n",
        "            subtree = ID3(sub_data, data, features, target_attr, parent_node_class)\n",
        "            tree[best_feat][val] = subtree\n",
        "        return tree"
      ],
      "metadata": {
        "id": "RtiCJD2xGivv"
      },
      "execution_count": 4,
      "outputs": []
    },
    {
      "cell_type": "code",
      "source": [
        "# Build the tree\n",
        "features = ['CGPA', 'Interactiveness', 'Practical Knowledge', 'Communication Skills']\n",
        "tree = ID3(df, df, features)\n"
      ],
      "metadata": {
        "id": "4wjyINnhGlzE"
      },
      "execution_count": 5,
      "outputs": []
    },
    {
      "cell_type": "code",
      "source": [
        "# Visualization using graphviz\n",
        "def visualize_tree(tree, parent_name=\"Root\", graph=None, depth=0, max_depth=5): # Added depth and max_depth parameters\n",
        "    if graph is None:\n",
        "        graph = graphviz.Digraph(format='png')\n",
        "        graph.node(parent_name)\n",
        "\n",
        "    if depth >= max_depth:  # Check if the maximum depth is reached\n",
        "        return graph\n",
        "\n",
        "    for node, branches in tree.items():\n",
        "        for val, subtree in branches.items():\n",
        "            child_name = f\"{node}_{val}\"\n",
        "            if isinstance(subtree, dict):\n",
        "                graph.node(child_name, label=node)\n",
        "                graph.edge(parent_name, child_name, label=val)\n",
        "                visualize_tree({node: {val: subtree}}, parent_name=child_name, graph=graph, depth=depth + 1, max_depth=max_depth) # Pass depth + 1 in the recursive call\n",
        "            else:\n",
        "                leaf_name = f\"{child_name}_leaf\"\n",
        "                graph.node(leaf_name, label=subtree, shape='box', style='filled', color='lightblue')\n",
        "                graph.edge(parent_name, leaf_name, label=val)\n",
        "    return graph"
      ],
      "metadata": {
        "id": "9rNk50VOGsRj"
      },
      "execution_count": 11,
      "outputs": []
    },
    {
      "cell_type": "code",
      "source": [
        "# Generate and render the tree\n",
        "graph = visualize_tree(tree)\n",
        "graph.render(\"id3_decision_tree\", view=True)"
      ],
      "metadata": {
        "colab": {
          "base_uri": "https://localhost:8080/",
          "height": 36
        },
        "id": "MMNaBfDjGv3M",
        "outputId": "85ef0099-6027-4872-a3c8-9c2f08a63124"
      },
      "execution_count": 12,
      "outputs": [
        {
          "output_type": "execute_result",
          "data": {
            "text/plain": [
              "'id3_decision_tree.png'"
            ],
            "application/vnd.google.colaboratory.intrinsic+json": {
              "type": "string"
            }
          },
          "metadata": {},
          "execution_count": 12
        }
      ]
    },
    {
      "source": [
        "from IPython.display import Image\n",
        "\n",
        "graph = visualize_tree(tree)\n",
        "graph.render(\"id3_decision_tree\", view=False)  # view=False to prevent automatic opening\n",
        "Image(filename=\"id3_decision_tree.png\")  # Display within the notebook"
      ],
      "cell_type": "code",
      "metadata": {
        "colab": {
          "base_uri": "https://localhost:8080/",
          "height": 192
        },
        "id": "3oCaGsTSH3cv",
        "outputId": "29153192-fc55-4768-e1f6-a25072fca021"
      },
      "execution_count": 16,
      "outputs": [
        {
          "output_type": "execute_result",
          "data": {
            "image/png": "[encoded data removed]",
            "text/plain": [
              "<IPython.core.display.Image object>"
            ]
          },
          "metadata": {},
          "execution_count": 16
        }
      ]
    },
    {
      "cell_type": "code",
      "source": [],
      "metadata": {
        "id": "8oioN8fdH3wQ"
      },
      "execution_count": null,
      "outputs": []
    }
  ]
}